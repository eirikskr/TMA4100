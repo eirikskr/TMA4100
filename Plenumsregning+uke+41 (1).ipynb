{
 "cells": [
  {
   "cell_type": "markdown",
   "metadata": {},
   "source": [
    "# Plenumsregning\n",
    "## Oppgave 1\n",
    "I plenumsregningen fant vi roten til $f(x)=\\cos(x)-x$ med fem desimalers nøyaktighet. Ønsker vi å bruke python til å skjekke svaret kan vi gjøre følgende:"
   ]
  },
  {
   "cell_type": "code",
   "execution_count": 4,
   "metadata": {
    "collapsed": true
   },
   "outputs": [],
   "source": [
    "%matplotlib inline\n",
    "\n",
    "from numpy import *\n",
    "from matplotlib.pyplot import *\n",
    "newparams = {'figure.figsize': (8.0, 4.0), 'axes.grid': True,\n",
    "             'lines.markersize': 8, 'lines.linewidth': 2,\n",
    "             'font.size': 14}\n",
    "rcParams.update(newparams)"
   ]
  },
  {
   "cell_type": "code",
   "execution_count": 5,
   "metadata": {
    "collapsed": true
   },
   "outputs": [],
   "source": [
    "def newton_w_error(f, df, x0, K, L, err=1.e-5, tol=1.e-8, max_iter=30):\n",
    "    # Solve f(x)=0 by Newtons method with the given error\n",
    "    # The output of each iteration is printed\n",
    "    # Input:\n",
    "    #   f, df:   The function f and its derivate f'.\n",
    "    #   x0:  Initial values\n",
    "    #   |f''|=<K\n",
    "    #   |f'|>=L\n",
    "    #   err: Is the error when we stop the code\n",
    "    #   tol: The tolerance\n",
    "    # Output:\n",
    "    #   The root and the number of iterations\n",
    "    x = x0\n",
    "    print('k ={:3d}, x = {:18.15f}, df(x)={:18.15e}, f(x) = {:18.15e}'.format(0, x, df(x), f(x)))\n",
    "    for k in range(max_iter):\n",
    "        fx = f(x)\n",
    "        e=K*abs((fx/df(x))**2) /(2*L)\n",
    "        x = x - fx/df(x)            # Newton-iteration\n",
    "        print('k ={:3d}, x = {:18.15f}, df(x)={:18.15e} , f(x) = {:18.15e}, e={:18.15e}'.format(k+1, x, df(x), f(x), e))\n",
    "        if e<err:                   # Accept the solution\n",
    "            break\n",
    "        if abs(fx) < tol:           # Accept the solution \n",
    "            break \n",
    "    return x, k+1"
   ]
  },
  {
   "cell_type": "code",
   "execution_count": 6,
   "metadata": {},
   "outputs": [
    {
     "name": "stdout",
     "output_type": "stream",
     "text": [
      "k =  0, x =  0.500000000000000, df(x)=-1.479425538604203e+00, f(x) = 3.775825618903728e-01\n",
      "k =  1, x =  0.755222417105636, df(x)=-1.685450631754473e+00 , f(x) = -2.710331185746728e-02, e=3.256924109662173e-02\n",
      "k =  2, x =  0.739141666149879, df(x)=-1.673653810758357e+00 , f(x) = -9.461538061772412e-05, e=1.292952756505428e-04\n",
      "k =  3, x =  0.739085133920807, df(x)=-1.673612029704747e+00 , f(x) = -1.180977871051425e-09, e=1.597946461948420e-09\n",
      "\n",
      "\n",
      "Result:\n",
      "x=0.7390851339208068, number of iterations=3\n"
     ]
    }
   ],
   "source": [
    "def f(x):                   # The function f\n",
    "    return cos(x)-x\n",
    "\n",
    "def df(x):                  # The derivative f'\n",
    "    return -sin(x)-1\n",
    "L=1\n",
    "K=1\n",
    "\n",
    "x0 = 0.5                      # Starting value\n",
    "x, nit = newton_w_error(f, df, x0, K, L)  # Apply Newton\n",
    "print('\\n\\nResult:\\nx={}, number of iterations={}'.format(x, nit))"
   ]
  },
  {
   "cell_type": "markdown",
   "metadata": {},
   "source": [
    "## Oppgave 3\n",
    "\n",
    "Skjekker vi utregningene våre for trapesmetoden får vi:\n"
   ]
  },
  {
   "cell_type": "code",
   "execution_count": 4,
   "metadata": {
    "collapsed": true
   },
   "outputs": [],
   "source": [
    "def trapes_utregning(f, a, b, n):\n",
    "# Finner en tilnærmelse til integralet av funksjonen f\n",
    "# over intervallet [a,b] ved bruk av trapesmetode med n delintervaller.\n",
    "    x_noder = linspace(a, b, n+1)     # Jevnt fordelte noder fra a til b\n",
    "    h = (b-a)/n\n",
    "    S1 = f(x_noder[0]) + f(x_noder[n])\n",
    "    S2 = sum(f(x_noder[1:n]))         # S1 = f(x_1)+f(x_2)+...+f(x_{n-1})\n",
    "    S = h*(f(x_noder[0])  + 2*S2 + f(x_noder[n]))/2\n",
    "    for k in range(n+1):\n",
    "        print('k ={:3d}, x={:18.15e} ,f(x)={:18.15e}'.format(k, x_noder[k], f(x_noder[k])))\n",
    "    return S  "
   ]
  },
  {
   "cell_type": "code",
   "execution_count": 5,
   "metadata": {},
   "outputs": [
    {
     "name": "stdout",
     "output_type": "stream",
     "text": [
      "k =  0, x=0.000000000000000e+00 ,f(x)=1.000000000000000e+00\n",
      "k =  1, x=5.000000000000000e-01 ,f(x)=1.030776406404415e+00\n",
      "k =  2, x=1.000000000000000e+00 ,f(x)=1.414213562373095e+00\n",
      "k =  3, x=1.500000000000000e+00 ,f(x)=2.462214450449026e+00\n",
      "k =  4, x=2.000000000000000e+00 ,f(x)=4.123105625617661e+00\n",
      "For n=4 får vi at trapesmetoden gir oss S = 3.73437862\n"
     ]
    }
   ],
   "source": [
    "# Definerer funksjonen\n",
    "def f(x):\n",
    "    return (1+x**4)**(1/2)\n",
    "\n",
    "\n",
    "# Bruker Trapesmetoden for å tilnærme integralet\n",
    "n=4                                               #Antall delintervaller\n",
    "S = trapes_utregning(f, 0, 2, n)\n",
    "print('For n='+str(n)+' får vi at trapesmetoden gir oss S = {:.8f}'.format( S))"
   ]
  },
  {
   "cell_type": "markdown",
   "metadata": {},
   "source": [
    "## Oppgave 4\n",
    "Her skjekker vi at vi får rett svar når vi bruker Simpsons metode for å regne ut integralet $\\int_0^1 e^{-x^2}dx$."
   ]
  },
  {
   "cell_type": "code",
   "execution_count": 6,
   "metadata": {
    "collapsed": true
   },
   "outputs": [],
   "source": [
    "def simpson_utregning(f, a, b, m):\n",
    "# Finner en tilnærmelse til integralet av funksjonen f\n",
    "# over intervallet [a,b] ved bruk av Simpsons metode med m delintervaller.\n",
    "    n = 2*m\n",
    "    x_noder = linspace(a, b, n+1)     # Jevnt fordelte noder fra a til b\n",
    "    h = (b-a)/n\n",
    "    S1 = f(x_noder[0]) + f(x_noder[n])  # S1 = f(x_0)+f(x_{2m})\n",
    "    S2 = sum(f(x_noder[1:n:2]))         # S2 = f(x_1)+f(x_3)+...+f(x_{2m-1})\n",
    "    S3 = sum(f(x_noder[2:n-1:2]))       # S3 = f(x_2)+f(x_4)+...+f(x_{2m-2})\n",
    "    S = h*(S1 + 4*S2 + 2*S3)/3\n",
    "    for k in range(n+1):\n",
    "        print('k ={:3d}, x={:18.15e} ,f(x)={:18.15e}'.format(k, x_noder[k], f(x_noder[k])))\n",
    "    return S  "
   ]
  },
  {
   "cell_type": "code",
   "execution_count": 7,
   "metadata": {},
   "outputs": [
    {
     "name": "stdout",
     "output_type": "stream",
     "text": [
      "k =  0, x=0.000000000000000e+00 ,f(x)=1.000000000000000e+00\n",
      "k =  1, x=2.500000000000000e-01 ,f(x)=9.394130628134758e-01\n",
      "k =  2, x=5.000000000000000e-01 ,f(x)=7.788007830714049e-01\n",
      "k =  3, x=7.500000000000000e-01 ,f(x)=5.697828247309230e-01\n",
      "k =  4, x=1.000000000000000e+00 ,f(x)=3.678794411714423e-01\n",
      "For m=2 gir Simpsons metode oss S = 0.74685538\n"
     ]
    }
   ],
   "source": [
    "# Definerer funksjonen\n",
    "def f(x):\n",
    "    return e**(-x**2)\n",
    "\n",
    "\n",
    "# Bruker Simpsons metode for å tilnærme integralet\n",
    "m=2\n",
    "S = simpson_utregning(f, 0, 1, m)\n",
    "print('For m='+str(m)+' gir Simpsons metode oss S = {:.8f}'.format( S))"
   ]
  },
  {
   "cell_type": "code",
   "execution_count": null,
   "metadata": {
    "collapsed": true
   },
   "outputs": [],
   "source": []
  }
 ],
 "metadata": {
  "kernelspec": {
   "display_name": "Python 3",
   "language": "python",
   "name": "python3"
  },
  "language_info": {
   "codemirror_mode": {
    "name": "ipython",
    "version": 3
   },
   "file_extension": ".py",
   "mimetype": "text/x-python",
   "name": "python",
   "nbconvert_exporter": "python",
   "pygments_lexer": "ipython3",
   "version": "3.6.3"
  }
 },
 "nbformat": 4,
 "nbformat_minor": 2
}
